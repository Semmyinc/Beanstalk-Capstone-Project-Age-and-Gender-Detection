{
  "nbformat": 4,
  "nbformat_minor": 0,
  "metadata": {
    "colab": {
      "provenance": []
    },
    "kernelspec": {
      "name": "python3",
      "display_name": "Python 3"
    },
    "language_info": {
      "name": "python"
    }
  },
  "cells": [
    {
      "cell_type": "markdown",
      "source": [
        "# Hamoye Capstone Project: Age & Gender Detection\n",
        "\n",
        "### by : Beanstalk\n",
        "\n",
        "The dataset includes a CSV of facial images that are labeled on the basis of age, gender, and ethnicity.The dataset includes 27305 rows and 5 columns, age, ethnicity, gender, img_name and pixels.\n",
        "\n",
        "The project will be based on a CNN (Conventional Neutral Networks) model to detect the variables of interest (Age & Gender). In order to reach that we have to follow some steps which are included in the methodology.\n",
        "\n",
        "## Methodology of the project:\n",
        "The project will be devised into 5 parts:\n",
        "1. Data Collection and Assessment\n",
        "2. Data Cleaning and wrangling\n",
        "3. Data Visualization \n",
        "4. Features engineering\n",
        "5. Data Modeling and Evaluation"
      ],
      "metadata": {
        "id": "cVzwHEzWdZj1"
      }
    },
    {
      "cell_type": "markdown",
      "source": [
        "## Data Collection and Assessment\n",
        "Firstly we have to collect our dataset, fortunately the dataset is provided by kaggle and we can easy import it to our project directly through kaggle API. Please following the code bellow to import the data without errors."
      ],
      "metadata": {
        "id": "nt9uMzFqOooV"
      }
    },
    {
      "cell_type": "code",
      "source": [
        "\n",
        "# we have to install kaggle via pip\n",
        "! pip install -q kaggle"
      ],
      "metadata": {
        "id": "yhYkkZZAOrqy"
      },
      "execution_count": null,
      "outputs": []
    },
    {
      "cell_type": "code",
      "source": [
        "\n",
        "# we need to import the json file that contains kaggle API \n",
        "from google.colab import files\n",
        "files.upload()"
      ],
      "metadata": {
        "id": "UM-SfqwwO2uX",
        "colab": {
          "base_uri": "https://localhost:8080/",
          "height": 146
        },
        "outputId": "3316ebef-f6d2-45d6-ec36-fa1fa77d51ca"
      },
      "execution_count": null,
      "outputs": [
        {
          "output_type": "display_data",
          "data": {
            "text/plain": [
              "<IPython.core.display.HTML object>"
            ],
            "text/html": [
              "\n",
              "     <input type=\"file\" id=\"files-94b46204-768f-4e41-a1df-a662f3af63ee\" name=\"files[]\" multiple disabled\n",
              "        style=\"border:none\" />\n",
              "     <output id=\"result-94b46204-768f-4e41-a1df-a662f3af63ee\">\n",
              "      Upload widget is only available when the cell has been executed in the\n",
              "      current browser session. Please rerun this cell to enable.\n",
              "      </output>\n",
              "      <script>// Copyright 2017 Google LLC\n",
              "//\n",
              "// Licensed under the Apache License, Version 2.0 (the \"License\");\n",
              "// you may not use this file except in compliance with the License.\n",
              "// You may obtain a copy of the License at\n",
              "//\n",
              "//      http://www.apache.org/licenses/LICENSE-2.0\n",
              "//\n",
              "// Unless required by applicable law or agreed to in writing, software\n",
              "// distributed under the License is distributed on an \"AS IS\" BASIS,\n",
              "// WITHOUT WARRANTIES OR CONDITIONS OF ANY KIND, either express or implied.\n",
              "// See the License for the specific language governing permissions and\n",
              "// limitations under the License.\n",
              "\n",
              "/**\n",
              " * @fileoverview Helpers for google.colab Python module.\n",
              " */\n",
              "(function(scope) {\n",
              "function span(text, styleAttributes = {}) {\n",
              "  const element = document.createElement('span');\n",
              "  element.textContent = text;\n",
              "  for (const key of Object.keys(styleAttributes)) {\n",
              "    element.style[key] = styleAttributes[key];\n",
              "  }\n",
              "  return element;\n",
              "}\n",
              "\n",
              "// Max number of bytes which will be uploaded at a time.\n",
              "const MAX_PAYLOAD_SIZE = 100 * 1024;\n",
              "\n",
              "function _uploadFiles(inputId, outputId) {\n",
              "  const steps = uploadFilesStep(inputId, outputId);\n",
              "  const outputElement = document.getElementById(outputId);\n",
              "  // Cache steps on the outputElement to make it available for the next call\n",
              "  // to uploadFilesContinue from Python.\n",
              "  outputElement.steps = steps;\n",
              "\n",
              "  return _uploadFilesContinue(outputId);\n",
              "}\n",
              "\n",
              "// This is roughly an async generator (not supported in the browser yet),\n",
              "// where there are multiple asynchronous steps and the Python side is going\n",
              "// to poll for completion of each step.\n",
              "// This uses a Promise to block the python side on completion of each step,\n",
              "// then passes the result of the previous step as the input to the next step.\n",
              "function _uploadFilesContinue(outputId) {\n",
              "  const outputElement = document.getElementById(outputId);\n",
              "  const steps = outputElement.steps;\n",
              "\n",
              "  const next = steps.next(outputElement.lastPromiseValue);\n",
              "  return Promise.resolve(next.value.promise).then((value) => {\n",
              "    // Cache the last promise value to make it available to the next\n",
              "    // step of the generator.\n",
              "    outputElement.lastPromiseValue = value;\n",
              "    return next.value.response;\n",
              "  });\n",
              "}\n",
              "\n",
              "/**\n",
              " * Generator function which is called between each async step of the upload\n",
              " * process.\n",
              " * @param {string} inputId Element ID of the input file picker element.\n",
              " * @param {string} outputId Element ID of the output display.\n",
              " * @return {!Iterable<!Object>} Iterable of next steps.\n",
              " */\n",
              "function* uploadFilesStep(inputId, outputId) {\n",
              "  const inputElement = document.getElementById(inputId);\n",
              "  inputElement.disabled = false;\n",
              "\n",
              "  const outputElement = document.getElementById(outputId);\n",
              "  outputElement.innerHTML = '';\n",
              "\n",
              "  const pickedPromise = new Promise((resolve) => {\n",
              "    inputElement.addEventListener('change', (e) => {\n",
              "      resolve(e.target.files);\n",
              "    });\n",
              "  });\n",
              "\n",
              "  const cancel = document.createElement('button');\n",
              "  inputElement.parentElement.appendChild(cancel);\n",
              "  cancel.textContent = 'Cancel upload';\n",
              "  const cancelPromise = new Promise((resolve) => {\n",
              "    cancel.onclick = () => {\n",
              "      resolve(null);\n",
              "    };\n",
              "  });\n",
              "\n",
              "  // Wait for the user to pick the files.\n",
              "  const files = yield {\n",
              "    promise: Promise.race([pickedPromise, cancelPromise]),\n",
              "    response: {\n",
              "      action: 'starting',\n",
              "    }\n",
              "  };\n",
              "\n",
              "  cancel.remove();\n",
              "\n",
              "  // Disable the input element since further picks are not allowed.\n",
              "  inputElement.disabled = true;\n",
              "\n",
              "  if (!files) {\n",
              "    return {\n",
              "      response: {\n",
              "        action: 'complete',\n",
              "      }\n",
              "    };\n",
              "  }\n",
              "\n",
              "  for (const file of files) {\n",
              "    const li = document.createElement('li');\n",
              "    li.append(span(file.name, {fontWeight: 'bold'}));\n",
              "    li.append(span(\n",
              "        `(${file.type || 'n/a'}) - ${file.size} bytes, ` +\n",
              "        `last modified: ${\n",
              "            file.lastModifiedDate ? file.lastModifiedDate.toLocaleDateString() :\n",
              "                                    'n/a'} - `));\n",
              "    const percent = span('0% done');\n",
              "    li.appendChild(percent);\n",
              "\n",
              "    outputElement.appendChild(li);\n",
              "\n",
              "    const fileDataPromise = new Promise((resolve) => {\n",
              "      const reader = new FileReader();\n",
              "      reader.onload = (e) => {\n",
              "        resolve(e.target.result);\n",
              "      };\n",
              "      reader.readAsArrayBuffer(file);\n",
              "    });\n",
              "    // Wait for the data to be ready.\n",
              "    let fileData = yield {\n",
              "      promise: fileDataPromise,\n",
              "      response: {\n",
              "        action: 'continue',\n",
              "      }\n",
              "    };\n",
              "\n",
              "    // Use a chunked sending to avoid message size limits. See b/62115660.\n",
              "    let position = 0;\n",
              "    do {\n",
              "      const length = Math.min(fileData.byteLength - position, MAX_PAYLOAD_SIZE);\n",
              "      const chunk = new Uint8Array(fileData, position, length);\n",
              "      position += length;\n",
              "\n",
              "      const base64 = btoa(String.fromCharCode.apply(null, chunk));\n",
              "      yield {\n",
              "        response: {\n",
              "          action: 'append',\n",
              "          file: file.name,\n",
              "          data: base64,\n",
              "        },\n",
              "      };\n",
              "\n",
              "      let percentDone = fileData.byteLength === 0 ?\n",
              "          100 :\n",
              "          Math.round((position / fileData.byteLength) * 100);\n",
              "      percent.textContent = `${percentDone}% done`;\n",
              "\n",
              "    } while (position < fileData.byteLength);\n",
              "  }\n",
              "\n",
              "  // All done.\n",
              "  yield {\n",
              "    response: {\n",
              "      action: 'complete',\n",
              "    }\n",
              "  };\n",
              "}\n",
              "\n",
              "scope.google = scope.google || {};\n",
              "scope.google.colab = scope.google.colab || {};\n",
              "scope.google.colab._files = {\n",
              "  _uploadFiles,\n",
              "  _uploadFilesContinue,\n",
              "};\n",
              "})(self);\n",
              "</script> "
            ]
          },
          "metadata": {}
        },
        {
          "output_type": "stream",
          "name": "stdout",
          "text": [
            "Saving kaggle.json to kaggle.json\n"
          ]
        },
        {
          "output_type": "execute_result",
          "data": {
            "text/plain": [
              "{'kaggle.json': b'{\"username\":\"yuunogasay\",\"key\":\"6c165d2e90a0ae99c7cf1cf54784159e\"}'}"
            ]
          },
          "metadata": {},
          "execution_count": 2
        }
      ]
    },
    {
      "cell_type": "code",
      "source": [
        "\n",
        "# The following code will make a directory\n",
        "# will move the json file inside it and give it authority \n",
        "! mkdir ~/.kaggle\n",
        "! cp kaggle.json ~/.kaggle/\n",
        "! chmod 600 ~/.kaggle/kaggle.json"
      ],
      "metadata": {
        "id": "xtFvSn7ZO-2r"
      },
      "execution_count": null,
      "outputs": []
    },
    {
      "cell_type": "code",
      "source": [
        "\n",
        "# we download our dataset using the following code\n",
        "!kaggle datasets download nipunarora8/age-gender-and-ethnicity-face-data-csv"
      ],
      "metadata": {
        "id": "jJq-sNH6PMqg",
        "colab": {
          "base_uri": "https://localhost:8080/"
        },
        "outputId": "64252a68-54d2-4e88-9fba-87f779a14d96"
      },
      "execution_count": null,
      "outputs": [
        {
          "output_type": "stream",
          "name": "stdout",
          "text": [
            "Downloading age-gender-and-ethnicity-face-data-csv.zip to /content\n",
            " 92% 58.0M/63.2M [00:00<00:00, 162MB/s]\n",
            "100% 63.2M/63.2M [00:00<00:00, 154MB/s]\n"
          ]
        }
      ]
    },
    {
      "cell_type": "code",
      "source": [
        "\n",
        "# Since it's downloaded in zip format, we have to extract it\n",
        "! unzip /content/age-gender-and-ethnicity-face-data-csv.zip"
      ],
      "metadata": {
        "id": "gU4t4Y82PXhJ",
        "colab": {
          "base_uri": "https://localhost:8080/"
        },
        "outputId": "8ba9e55c-d43a-43e8-e6b7-2d2b26c0ba25"
      },
      "execution_count": null,
      "outputs": [
        {
          "output_type": "stream",
          "name": "stdout",
          "text": [
            "Archive:  /content/age-gender-and-ethnicity-face-data-csv.zip\n",
            "  inflating: age_gender.csv          \n"
          ]
        }
      ]
    },
    {
      "cell_type": "markdown",
      "source": [
        "### Read data\n",
        "After collection our dataset, now we have to import it and assess it using different assessement methods."
      ],
      "metadata": {
        "id": "d8YdVSRnPl9B"
      }
    },
    {
      "cell_type": "code",
      "source": [
        "import os\n",
        "import numpy as np\n",
        "import pandas as pd\n",
        "import matplotlib.pyplot as plt\n",
        "import seaborn as sns\n",
        "import random \n",
        "import cv2\n",
        "\n",
        "from sklearn.model_selection import train_test_split\n",
        "import tensorflow as tf\n",
        "from tensorflow import keras\n",
        "from tensorflow.keras.preprocessing.image import load_img, img_to_array\n",
        "from sklearn.metrics import fbeta_score\n",
        "from sklearn.utils import shuffle\n",
        "from PIL import Image\n",
        "from tqdm import tqdm\n",
        "\n",
        "from tensorflow.keras.layers import Dense\n",
        "from tensorflow.keras.models import Sequential \n",
        "from tensorflow.keras.optimizers import Adam, SGD\n",
        "from keras.callbacks import ModelCheckpoint, EarlyStopping, ReduceLROnPlateau, History\n",
        "from sklearn.preprocessing import LabelEncoder\n",
        "from keras.layers import Conv2D, Dense, LSTM, Flatten, MaxPooling2D, BatchNormalization, Dropout\n",
        "from sklearn.metrics import f1_score\n",
        "from sklearn import metrics"
      ],
      "metadata": {
        "id": "fP1aHFajV60M"
      },
      "execution_count": null,
      "outputs": []
    },
    {
      "cell_type": "code",
      "source": [
        "\n",
        "# we import the dataset using the following code\n",
        "df = pd.read_csv('/content/age_gender.csv')\n",
        "df.head()"
      ],
      "metadata": {
        "colab": {
          "base_uri": "https://localhost:8080/",
          "height": 1155
        },
        "id": "aesh8uA9Pj9q",
        "outputId": "25b727ae-f0aa-40ce-e33e-c4bfc46e5cd7"
      },
      "execution_count": null,
      "outputs": [
        {
          "output_type": "execute_result",
          "data": {
            "text/plain": [
              "   age  ethnicity  gender                        img_name  \\\n",
              "0    1          2       0  20161219203650636.jpg.chip.jpg   \n",
              "1    1          2       0  20161219222752047.jpg.chip.jpg   \n",
              "2    1          2       0  20161219222832191.jpg.chip.jpg   \n",
              "3    1          2       0  20161220144911423.jpg.chip.jpg   \n",
              "4    1          2       0  20161220144914327.jpg.chip.jpg   \n",
              "\n",
              "                                              pixels  \n",
              "0  129 128 128 126 127 130 133 135 139 142 145 14...  \n",
              "1  164 74 111 168 169 171 175 182 184 188 193 199...  \n",
              "2  67 70 71 70 69 67 70 79 90 103 116 132 145 155...  \n",
              "3  193 197 198 200 199 200 202 203 204 205 208 21...  \n",
              "4  202 205 209 210 209 209 210 211 212 214 218 21...  "
            ],
            "text/html": [
              "\n",
              "  <div id=\"df-96605b11-977f-4785-8630-37e1503026d8\">\n",
              "    <div class=\"colab-df-container\">\n",
              "      <div>\n",
              "<style scoped>\n",
              "    .dataframe tbody tr th:only-of-type {\n",
              "        vertical-align: middle;\n",
              "    }\n",
              "\n",
              "    .dataframe tbody tr th {\n",
              "        vertical-align: top;\n",
              "    }\n",
              "\n",
              "    .dataframe thead th {\n",
              "        text-align: right;\n",
              "    }\n",
              "</style>\n",
              "<table border=\"1\" class=\"dataframe\">\n",
              "  <thead>\n",
              "    <tr style=\"text-align: right;\">\n",
              "      <th></th>\n",
              "      <th>age</th>\n",
              "      <th>ethnicity</th>\n",
              "      <th>gender</th>\n",
              "      <th>img_name</th>\n",
              "      <th>pixels</th>\n",
              "    </tr>\n",
              "  </thead>\n",
              "  <tbody>\n",
              "    <tr>\n",
              "      <th>0</th>\n",
              "      <td>1</td>\n",
              "      <td>2</td>\n",
              "      <td>0</td>\n",
              "      <td>20161219203650636.jpg.chip.jpg</td>\n",
              "      <td>129 128 128 126 127 130 133 135 139 142 145 14...</td>\n",
              "    </tr>\n",
              "    <tr>\n",
              "      <th>1</th>\n",
              "      <td>1</td>\n",
              "      <td>2</td>\n",
              "      <td>0</td>\n",
              "      <td>20161219222752047.jpg.chip.jpg</td>\n",
              "      <td>164 74 111 168 169 171 175 182 184 188 193 199...</td>\n",
              "    </tr>\n",
              "    <tr>\n",
              "      <th>2</th>\n",
              "      <td>1</td>\n",
              "      <td>2</td>\n",
              "      <td>0</td>\n",
              "      <td>20161219222832191.jpg.chip.jpg</td>\n",
              "      <td>67 70 71 70 69 67 70 79 90 103 116 132 145 155...</td>\n",
              "    </tr>\n",
              "    <tr>\n",
              "      <th>3</th>\n",
              "      <td>1</td>\n",
              "      <td>2</td>\n",
              "      <td>0</td>\n",
              "      <td>20161220144911423.jpg.chip.jpg</td>\n",
              "      <td>193 197 198 200 199 200 202 203 204 205 208 21...</td>\n",
              "    </tr>\n",
              "    <tr>\n",
              "      <th>4</th>\n",
              "      <td>1</td>\n",
              "      <td>2</td>\n",
              "      <td>0</td>\n",
              "      <td>20161220144914327.jpg.chip.jpg</td>\n",
              "      <td>202 205 209 210 209 209 210 211 212 214 218 21...</td>\n",
              "    </tr>\n",
              "  </tbody>\n",
              "</table>\n",
              "</div>\n",
              "      <button class=\"colab-df-convert\" onclick=\"convertToInteractive('df-96605b11-977f-4785-8630-37e1503026d8')\"\n",
              "              title=\"Convert this dataframe to an interactive table.\"\n",
              "              style=\"display:none;\">\n",
              "        \n",
              "  <svg xmlns=\"http://www.w3.org/2000/svg\" height=\"24px\"viewBox=\"0 0 24 24\"\n",
              "       width=\"24px\">\n",
              "    <path d=\"M0 0h24v24H0V0z\" fill=\"none\"/>\n",
              "    <path d=\"M18.56 5.44l.94 2.06.94-2.06 2.06-.94-2.06-.94-.94-2.06-.94 2.06-2.06.94zm-11 1L8.5 8.5l.94-2.06 2.06-.94-2.06-.94L8.5 2.5l-.94 2.06-2.06.94zm10 10l.94 2.06.94-2.06 2.06-.94-2.06-.94-.94-2.06-.94 2.06-2.06.94z\"/><path d=\"M17.41 7.96l-1.37-1.37c-.4-.4-.92-.59-1.43-.59-.52 0-1.04.2-1.43.59L10.3 9.45l-7.72 7.72c-.78.78-.78 2.05 0 2.83L4 21.41c.39.39.9.59 1.41.59.51 0 1.02-.2 1.41-.59l7.78-7.78 2.81-2.81c.8-.78.8-2.07 0-2.86zM5.41 20L4 18.59l7.72-7.72 1.47 1.35L5.41 20z\"/>\n",
              "  </svg>\n",
              "      </button>\n",
              "      \n",
              "  <style>\n",
              "    .colab-df-container {\n",
              "      display:flex;\n",
              "      flex-wrap:wrap;\n",
              "      gap: 12px;\n",
              "    }\n",
              "\n",
              "    .colab-df-convert {\n",
              "      background-color: #E8F0FE;\n",
              "      border: none;\n",
              "      border-radius: 50%;\n",
              "      cursor: pointer;\n",
              "      display: none;\n",
              "      fill: #1967D2;\n",
              "      height: 32px;\n",
              "      padding: 0 0 0 0;\n",
              "      width: 32px;\n",
              "    }\n",
              "\n",
              "    .colab-df-convert:hover {\n",
              "      background-color: #E2EBFA;\n",
              "      box-shadow: 0px 1px 2px rgba(60, 64, 67, 0.3), 0px 1px 3px 1px rgba(60, 64, 67, 0.15);\n",
              "      fill: #174EA6;\n",
              "    }\n",
              "\n",
              "    [theme=dark] .colab-df-convert {\n",
              "      background-color: #3B4455;\n",
              "      fill: #D2E3FC;\n",
              "    }\n",
              "\n",
              "    [theme=dark] .colab-df-convert:hover {\n",
              "      background-color: #434B5C;\n",
              "      box-shadow: 0px 1px 3px 1px rgba(0, 0, 0, 0.15);\n",
              "      filter: drop-shadow(0px 1px 2px rgba(0, 0, 0, 0.3));\n",
              "      fill: #FFFFFF;\n",
              "    }\n",
              "  </style>\n",
              "\n",
              "      <script>\n",
              "        const buttonEl =\n",
              "          document.querySelector('#df-96605b11-977f-4785-8630-37e1503026d8 button.colab-df-convert');\n",
              "        buttonEl.style.display =\n",
              "          google.colab.kernel.accessAllowed ? 'block' : 'none';\n",
              "\n",
              "        async function convertToInteractive(key) {\n",
              "          const element = document.querySelector('#df-96605b11-977f-4785-8630-37e1503026d8');\n",
              "          const dataTable =\n",
              "            await google.colab.kernel.invokeFunction('convertToInteractive',\n",
              "                                                     [key], {});\n",
              "          if (!dataTable) return;\n",
              "\n",
              "          const docLinkHtml = 'Like what you see? Visit the ' +\n",
              "            '<a target=\"_blank\" href=https://colab.research.google.com/notebooks/data_table.ipynb>data table notebook</a>'\n",
              "            + ' to learn more about interactive tables.';\n",
              "          element.innerHTML = '';\n",
              "          dataTable['output_type'] = 'display_data';\n",
              "          await google.colab.output.renderOutput(dataTable, element);\n",
              "          const docLink = document.createElement('div');\n",
              "          docLink.innerHTML = docLinkHtml;\n",
              "          element.appendChild(docLink);\n",
              "        }\n",
              "      </script>\n",
              "    </div>\n",
              "  </div>\n",
              "  "
            ]
          },
          "metadata": {},
          "execution_count": 8
        }
      ]
    },
    {
      "cell_type": "markdown",
      "source": [
        "## Data Cleaning and Wrangling\n",
        "After we assessed the data and showed the data quality problems that we have to clean, the following part is dedicated to perform a cleaning and wrangling for the data in order to make it useful for the next part which is the visualization part."
      ],
      "metadata": {
        "id": "RYo6jKbeQHSj"
      }
    },
    {
      "cell_type": "code",
      "source": [
        "\n",
        "# we drop the unused columns from the dataset\n",
        "df.drop(columns=['ethnicity', 'img_name'], inplace=True)"
      ],
      "metadata": {
        "id": "Wok4dJjuPv-F"
      },
      "execution_count": null,
      "outputs": []
    },
    {
      "cell_type": "code",
      "source": [
        "\n",
        "# We extract the pixels from pixels column to make them tidy\n",
        "new_cols = []\n",
        "\n",
        "for i in range(len(df)):\n",
        "    row = df.iloc[i]['pixels']\n",
        "    values = row.split()\n",
        "    new_cols.append(values)\n",
        "\n",
        "# Create new dataframe with separated values\n",
        "new_df = pd.DataFrame(new_cols)\n",
        "\n",
        "# Print new dataframe\n",
        "new_df.head()"
      ],
      "metadata": {
        "colab": {
          "base_uri": "https://localhost:8080/",
          "height": 300
        },
        "id": "u7whFMvlQGZ-",
        "outputId": "dea6ebd4-1a17-4401-c22b-4ded2adb0fe2"
      },
      "execution_count": null,
      "outputs": [
        {
          "output_type": "execute_result",
          "data": {
            "text/plain": [
              "  0    1    2    3    4    5    6    7    8    9     ... 2294 2295 2296 2297  \\\n",
              "0  129  128  128  126  127  130  133  135  139  142  ...  123  129  134  138   \n",
              "1  164   74  111  168  169  171  175  182  184  188  ...  168  189  223  241   \n",
              "2   67   70   71   70   69   67   70   79   90  103  ...  117  113  116  116   \n",
              "3  193  197  198  200  199  200  202  203  204  205  ...  218  222  227  228   \n",
              "4  202  205  209  210  209  209  210  211  212  214  ...  165  167  167  167   \n",
              "\n",
              "  2298 2299 2300 2301 2302 2303  \n",
              "0  142  144  144  146  146  146  \n",
              "1  236  232  204  182  170  148  \n",
              "2  117  117  115  112  111  108  \n",
              "3  228  230  231  235  239  246  \n",
              "4  168  171  171  167  163  161  \n",
              "\n",
              "[5 rows x 2304 columns]"
            ],
            "text/html": [
              "\n",
              "  <div id=\"df-0d193169-5fca-45c6-9d63-b99775d9542f\">\n",
              "    <div class=\"colab-df-container\">\n",
              "      <div>\n",
              "<style scoped>\n",
              "    .dataframe tbody tr th:only-of-type {\n",
              "        vertical-align: middle;\n",
              "    }\n",
              "\n",
              "    .dataframe tbody tr th {\n",
              "        vertical-align: top;\n",
              "    }\n",
              "\n",
              "    .dataframe thead th {\n",
              "        text-align: right;\n",
              "    }\n",
              "</style>\n",
              "<table border=\"1\" class=\"dataframe\">\n",
              "  <thead>\n",
              "    <tr style=\"text-align: right;\">\n",
              "      <th></th>\n",
              "      <th>0</th>\n",
              "      <th>1</th>\n",
              "      <th>2</th>\n",
              "      <th>3</th>\n",
              "      <th>4</th>\n",
              "      <th>5</th>\n",
              "      <th>6</th>\n",
              "      <th>7</th>\n",
              "      <th>8</th>\n",
              "      <th>9</th>\n",
              "      <th>...</th>\n",
              "      <th>2294</th>\n",
              "      <th>2295</th>\n",
              "      <th>2296</th>\n",
              "      <th>2297</th>\n",
              "      <th>2298</th>\n",
              "      <th>2299</th>\n",
              "      <th>2300</th>\n",
              "      <th>2301</th>\n",
              "      <th>2302</th>\n",
              "      <th>2303</th>\n",
              "    </tr>\n",
              "  </thead>\n",
              "  <tbody>\n",
              "    <tr>\n",
              "      <th>0</th>\n",
              "      <td>129</td>\n",
              "      <td>128</td>\n",
              "      <td>128</td>\n",
              "      <td>126</td>\n",
              "      <td>127</td>\n",
              "      <td>130</td>\n",
              "      <td>133</td>\n",
              "      <td>135</td>\n",
              "      <td>139</td>\n",
              "      <td>142</td>\n",
              "      <td>...</td>\n",
              "      <td>123</td>\n",
              "      <td>129</td>\n",
              "      <td>134</td>\n",
              "      <td>138</td>\n",
              "      <td>142</td>\n",
              "      <td>144</td>\n",
              "      <td>144</td>\n",
              "      <td>146</td>\n",
              "      <td>146</td>\n",
              "      <td>146</td>\n",
              "    </tr>\n",
              "    <tr>\n",
              "      <th>1</th>\n",
              "      <td>164</td>\n",
              "      <td>74</td>\n",
              "      <td>111</td>\n",
              "      <td>168</td>\n",
              "      <td>169</td>\n",
              "      <td>171</td>\n",
              "      <td>175</td>\n",
              "      <td>182</td>\n",
              "      <td>184</td>\n",
              "      <td>188</td>\n",
              "      <td>...</td>\n",
              "      <td>168</td>\n",
              "      <td>189</td>\n",
              "      <td>223</td>\n",
              "      <td>241</td>\n",
              "      <td>236</td>\n",
              "      <td>232</td>\n",
              "      <td>204</td>\n",
              "      <td>182</td>\n",
              "      <td>170</td>\n",
              "      <td>148</td>\n",
              "    </tr>\n",
              "    <tr>\n",
              "      <th>2</th>\n",
              "      <td>67</td>\n",
              "      <td>70</td>\n",
              "      <td>71</td>\n",
              "      <td>70</td>\n",
              "      <td>69</td>\n",
              "      <td>67</td>\n",
              "      <td>70</td>\n",
              "      <td>79</td>\n",
              "      <td>90</td>\n",
              "      <td>103</td>\n",
              "      <td>...</td>\n",
              "      <td>117</td>\n",
              "      <td>113</td>\n",
              "      <td>116</td>\n",
              "      <td>116</td>\n",
              "      <td>117</td>\n",
              "      <td>117</td>\n",
              "      <td>115</td>\n",
              "      <td>112</td>\n",
              "      <td>111</td>\n",
              "      <td>108</td>\n",
              "    </tr>\n",
              "    <tr>\n",
              "      <th>3</th>\n",
              "      <td>193</td>\n",
              "      <td>197</td>\n",
              "      <td>198</td>\n",
              "      <td>200</td>\n",
              "      <td>199</td>\n",
              "      <td>200</td>\n",
              "      <td>202</td>\n",
              "      <td>203</td>\n",
              "      <td>204</td>\n",
              "      <td>205</td>\n",
              "      <td>...</td>\n",
              "      <td>218</td>\n",
              "      <td>222</td>\n",
              "      <td>227</td>\n",
              "      <td>228</td>\n",
              "      <td>228</td>\n",
              "      <td>230</td>\n",
              "      <td>231</td>\n",
              "      <td>235</td>\n",
              "      <td>239</td>\n",
              "      <td>246</td>\n",
              "    </tr>\n",
              "    <tr>\n",
              "      <th>4</th>\n",
              "      <td>202</td>\n",
              "      <td>205</td>\n",
              "      <td>209</td>\n",
              "      <td>210</td>\n",
              "      <td>209</td>\n",
              "      <td>209</td>\n",
              "      <td>210</td>\n",
              "      <td>211</td>\n",
              "      <td>212</td>\n",
              "      <td>214</td>\n",
              "      <td>...</td>\n",
              "      <td>165</td>\n",
              "      <td>167</td>\n",
              "      <td>167</td>\n",
              "      <td>167</td>\n",
              "      <td>168</td>\n",
              "      <td>171</td>\n",
              "      <td>171</td>\n",
              "      <td>167</td>\n",
              "      <td>163</td>\n",
              "      <td>161</td>\n",
              "    </tr>\n",
              "  </tbody>\n",
              "</table>\n",
              "<p>5 rows × 2304 columns</p>\n",
              "</div>\n",
              "      <button class=\"colab-df-convert\" onclick=\"convertToInteractive('df-0d193169-5fca-45c6-9d63-b99775d9542f')\"\n",
              "              title=\"Convert this dataframe to an interactive table.\"\n",
              "              style=\"display:none;\">\n",
              "        \n",
              "  <svg xmlns=\"http://www.w3.org/2000/svg\" height=\"24px\"viewBox=\"0 0 24 24\"\n",
              "       width=\"24px\">\n",
              "    <path d=\"M0 0h24v24H0V0z\" fill=\"none\"/>\n",
              "    <path d=\"M18.56 5.44l.94 2.06.94-2.06 2.06-.94-2.06-.94-.94-2.06-.94 2.06-2.06.94zm-11 1L8.5 8.5l.94-2.06 2.06-.94-2.06-.94L8.5 2.5l-.94 2.06-2.06.94zm10 10l.94 2.06.94-2.06 2.06-.94-2.06-.94-.94-2.06-.94 2.06-2.06.94z\"/><path d=\"M17.41 7.96l-1.37-1.37c-.4-.4-.92-.59-1.43-.59-.52 0-1.04.2-1.43.59L10.3 9.45l-7.72 7.72c-.78.78-.78 2.05 0 2.83L4 21.41c.39.39.9.59 1.41.59.51 0 1.02-.2 1.41-.59l7.78-7.78 2.81-2.81c.8-.78.8-2.07 0-2.86zM5.41 20L4 18.59l7.72-7.72 1.47 1.35L5.41 20z\"/>\n",
              "  </svg>\n",
              "      </button>\n",
              "      \n",
              "  <style>\n",
              "    .colab-df-container {\n",
              "      display:flex;\n",
              "      flex-wrap:wrap;\n",
              "      gap: 12px;\n",
              "    }\n",
              "\n",
              "    .colab-df-convert {\n",
              "      background-color: #E8F0FE;\n",
              "      border: none;\n",
              "      border-radius: 50%;\n",
              "      cursor: pointer;\n",
              "      display: none;\n",
              "      fill: #1967D2;\n",
              "      height: 32px;\n",
              "      padding: 0 0 0 0;\n",
              "      width: 32px;\n",
              "    }\n",
              "\n",
              "    .colab-df-convert:hover {\n",
              "      background-color: #E2EBFA;\n",
              "      box-shadow: 0px 1px 2px rgba(60, 64, 67, 0.3), 0px 1px 3px 1px rgba(60, 64, 67, 0.15);\n",
              "      fill: #174EA6;\n",
              "    }\n",
              "\n",
              "    [theme=dark] .colab-df-convert {\n",
              "      background-color: #3B4455;\n",
              "      fill: #D2E3FC;\n",
              "    }\n",
              "\n",
              "    [theme=dark] .colab-df-convert:hover {\n",
              "      background-color: #434B5C;\n",
              "      box-shadow: 0px 1px 3px 1px rgba(0, 0, 0, 0.15);\n",
              "      filter: drop-shadow(0px 1px 2px rgba(0, 0, 0, 0.3));\n",
              "      fill: #FFFFFF;\n",
              "    }\n",
              "  </style>\n",
              "\n",
              "      <script>\n",
              "        const buttonEl =\n",
              "          document.querySelector('#df-0d193169-5fca-45c6-9d63-b99775d9542f button.colab-df-convert');\n",
              "        buttonEl.style.display =\n",
              "          google.colab.kernel.accessAllowed ? 'block' : 'none';\n",
              "\n",
              "        async function convertToInteractive(key) {\n",
              "          const element = document.querySelector('#df-0d193169-5fca-45c6-9d63-b99775d9542f');\n",
              "          const dataTable =\n",
              "            await google.colab.kernel.invokeFunction('convertToInteractive',\n",
              "                                                     [key], {});\n",
              "          if (!dataTable) return;\n",
              "\n",
              "          const docLinkHtml = 'Like what you see? Visit the ' +\n",
              "            '<a target=\"_blank\" href=https://colab.research.google.com/notebooks/data_table.ipynb>data table notebook</a>'\n",
              "            + ' to learn more about interactive tables.';\n",
              "          element.innerHTML = '';\n",
              "          dataTable['output_type'] = 'display_data';\n",
              "          await google.colab.output.renderOutput(dataTable, element);\n",
              "          const docLink = document.createElement('div');\n",
              "          docLink.innerHTML = docLinkHtml;\n",
              "          element.appendChild(docLink);\n",
              "        }\n",
              "      </script>\n",
              "    </div>\n",
              "  </div>\n",
              "  "
            ]
          },
          "metadata": {},
          "execution_count": 10
        }
      ]
    },
    {
      "cell_type": "code",
      "source": [
        "\n",
        "# Let's see the first 5 lines of the data\n",
        "new_df.head()"
      ],
      "metadata": {
        "colab": {
          "base_uri": "https://localhost:8080/",
          "height": 300
        },
        "id": "7ptD7E_cZcRG",
        "outputId": "328bfac9-0a9d-46c7-e803-bf382fb71e0b"
      },
      "execution_count": null,
      "outputs": [
        {
          "output_type": "execute_result",
          "data": {
            "text/plain": [
              "  0    1    2    3    4    5    6    7    8    9     ... 2294 2295 2296 2297  \\\n",
              "0  129  128  128  126  127  130  133  135  139  142  ...  123  129  134  138   \n",
              "1  164   74  111  168  169  171  175  182  184  188  ...  168  189  223  241   \n",
              "2   67   70   71   70   69   67   70   79   90  103  ...  117  113  116  116   \n",
              "3  193  197  198  200  199  200  202  203  204  205  ...  218  222  227  228   \n",
              "4  202  205  209  210  209  209  210  211  212  214  ...  165  167  167  167   \n",
              "\n",
              "  2298 2299 2300 2301 2302 2303  \n",
              "0  142  144  144  146  146  146  \n",
              "1  236  232  204  182  170  148  \n",
              "2  117  117  115  112  111  108  \n",
              "3  228  230  231  235  239  246  \n",
              "4  168  171  171  167  163  161  \n",
              "\n",
              "[5 rows x 2304 columns]"
            ],
            "text/html": [
              "\n",
              "  <div id=\"df-f41b4860-ec13-4b1d-b4ad-14a4b3388ca0\">\n",
              "    <div class=\"colab-df-container\">\n",
              "      <div>\n",
              "<style scoped>\n",
              "    .dataframe tbody tr th:only-of-type {\n",
              "        vertical-align: middle;\n",
              "    }\n",
              "\n",
              "    .dataframe tbody tr th {\n",
              "        vertical-align: top;\n",
              "    }\n",
              "\n",
              "    .dataframe thead th {\n",
              "        text-align: right;\n",
              "    }\n",
              "</style>\n",
              "<table border=\"1\" class=\"dataframe\">\n",
              "  <thead>\n",
              "    <tr style=\"text-align: right;\">\n",
              "      <th></th>\n",
              "      <th>0</th>\n",
              "      <th>1</th>\n",
              "      <th>2</th>\n",
              "      <th>3</th>\n",
              "      <th>4</th>\n",
              "      <th>5</th>\n",
              "      <th>6</th>\n",
              "      <th>7</th>\n",
              "      <th>8</th>\n",
              "      <th>9</th>\n",
              "      <th>...</th>\n",
              "      <th>2294</th>\n",
              "      <th>2295</th>\n",
              "      <th>2296</th>\n",
              "      <th>2297</th>\n",
              "      <th>2298</th>\n",
              "      <th>2299</th>\n",
              "      <th>2300</th>\n",
              "      <th>2301</th>\n",
              "      <th>2302</th>\n",
              "      <th>2303</th>\n",
              "    </tr>\n",
              "  </thead>\n",
              "  <tbody>\n",
              "    <tr>\n",
              "      <th>0</th>\n",
              "      <td>129</td>\n",
              "      <td>128</td>\n",
              "      <td>128</td>\n",
              "      <td>126</td>\n",
              "      <td>127</td>\n",
              "      <td>130</td>\n",
              "      <td>133</td>\n",
              "      <td>135</td>\n",
              "      <td>139</td>\n",
              "      <td>142</td>\n",
              "      <td>...</td>\n",
              "      <td>123</td>\n",
              "      <td>129</td>\n",
              "      <td>134</td>\n",
              "      <td>138</td>\n",
              "      <td>142</td>\n",
              "      <td>144</td>\n",
              "      <td>144</td>\n",
              "      <td>146</td>\n",
              "      <td>146</td>\n",
              "      <td>146</td>\n",
              "    </tr>\n",
              "    <tr>\n",
              "      <th>1</th>\n",
              "      <td>164</td>\n",
              "      <td>74</td>\n",
              "      <td>111</td>\n",
              "      <td>168</td>\n",
              "      <td>169</td>\n",
              "      <td>171</td>\n",
              "      <td>175</td>\n",
              "      <td>182</td>\n",
              "      <td>184</td>\n",
              "      <td>188</td>\n",
              "      <td>...</td>\n",
              "      <td>168</td>\n",
              "      <td>189</td>\n",
              "      <td>223</td>\n",
              "      <td>241</td>\n",
              "      <td>236</td>\n",
              "      <td>232</td>\n",
              "      <td>204</td>\n",
              "      <td>182</td>\n",
              "      <td>170</td>\n",
              "      <td>148</td>\n",
              "    </tr>\n",
              "    <tr>\n",
              "      <th>2</th>\n",
              "      <td>67</td>\n",
              "      <td>70</td>\n",
              "      <td>71</td>\n",
              "      <td>70</td>\n",
              "      <td>69</td>\n",
              "      <td>67</td>\n",
              "      <td>70</td>\n",
              "      <td>79</td>\n",
              "      <td>90</td>\n",
              "      <td>103</td>\n",
              "      <td>...</td>\n",
              "      <td>117</td>\n",
              "      <td>113</td>\n",
              "      <td>116</td>\n",
              "      <td>116</td>\n",
              "      <td>117</td>\n",
              "      <td>117</td>\n",
              "      <td>115</td>\n",
              "      <td>112</td>\n",
              "      <td>111</td>\n",
              "      <td>108</td>\n",
              "    </tr>\n",
              "    <tr>\n",
              "      <th>3</th>\n",
              "      <td>193</td>\n",
              "      <td>197</td>\n",
              "      <td>198</td>\n",
              "      <td>200</td>\n",
              "      <td>199</td>\n",
              "      <td>200</td>\n",
              "      <td>202</td>\n",
              "      <td>203</td>\n",
              "      <td>204</td>\n",
              "      <td>205</td>\n",
              "      <td>...</td>\n",
              "      <td>218</td>\n",
              "      <td>222</td>\n",
              "      <td>227</td>\n",
              "      <td>228</td>\n",
              "      <td>228</td>\n",
              "      <td>230</td>\n",
              "      <td>231</td>\n",
              "      <td>235</td>\n",
              "      <td>239</td>\n",
              "      <td>246</td>\n",
              "    </tr>\n",
              "    <tr>\n",
              "      <th>4</th>\n",
              "      <td>202</td>\n",
              "      <td>205</td>\n",
              "      <td>209</td>\n",
              "      <td>210</td>\n",
              "      <td>209</td>\n",
              "      <td>209</td>\n",
              "      <td>210</td>\n",
              "      <td>211</td>\n",
              "      <td>212</td>\n",
              "      <td>214</td>\n",
              "      <td>...</td>\n",
              "      <td>165</td>\n",
              "      <td>167</td>\n",
              "      <td>167</td>\n",
              "      <td>167</td>\n",
              "      <td>168</td>\n",
              "      <td>171</td>\n",
              "      <td>171</td>\n",
              "      <td>167</td>\n",
              "      <td>163</td>\n",
              "      <td>161</td>\n",
              "    </tr>\n",
              "  </tbody>\n",
              "</table>\n",
              "<p>5 rows × 2304 columns</p>\n",
              "</div>\n",
              "      <button class=\"colab-df-convert\" onclick=\"convertToInteractive('df-f41b4860-ec13-4b1d-b4ad-14a4b3388ca0')\"\n",
              "              title=\"Convert this dataframe to an interactive table.\"\n",
              "              style=\"display:none;\">\n",
              "        \n",
              "  <svg xmlns=\"http://www.w3.org/2000/svg\" height=\"24px\"viewBox=\"0 0 24 24\"\n",
              "       width=\"24px\">\n",
              "    <path d=\"M0 0h24v24H0V0z\" fill=\"none\"/>\n",
              "    <path d=\"M18.56 5.44l.94 2.06.94-2.06 2.06-.94-2.06-.94-.94-2.06-.94 2.06-2.06.94zm-11 1L8.5 8.5l.94-2.06 2.06-.94-2.06-.94L8.5 2.5l-.94 2.06-2.06.94zm10 10l.94 2.06.94-2.06 2.06-.94-2.06-.94-.94-2.06-.94 2.06-2.06.94z\"/><path d=\"M17.41 7.96l-1.37-1.37c-.4-.4-.92-.59-1.43-.59-.52 0-1.04.2-1.43.59L10.3 9.45l-7.72 7.72c-.78.78-.78 2.05 0 2.83L4 21.41c.39.39.9.59 1.41.59.51 0 1.02-.2 1.41-.59l7.78-7.78 2.81-2.81c.8-.78.8-2.07 0-2.86zM5.41 20L4 18.59l7.72-7.72 1.47 1.35L5.41 20z\"/>\n",
              "  </svg>\n",
              "      </button>\n",
              "      \n",
              "  <style>\n",
              "    .colab-df-container {\n",
              "      display:flex;\n",
              "      flex-wrap:wrap;\n",
              "      gap: 12px;\n",
              "    }\n",
              "\n",
              "    .colab-df-convert {\n",
              "      background-color: #E8F0FE;\n",
              "      border: none;\n",
              "      border-radius: 50%;\n",
              "      cursor: pointer;\n",
              "      display: none;\n",
              "      fill: #1967D2;\n",
              "      height: 32px;\n",
              "      padding: 0 0 0 0;\n",
              "      width: 32px;\n",
              "    }\n",
              "\n",
              "    .colab-df-convert:hover {\n",
              "      background-color: #E2EBFA;\n",
              "      box-shadow: 0px 1px 2px rgba(60, 64, 67, 0.3), 0px 1px 3px 1px rgba(60, 64, 67, 0.15);\n",
              "      fill: #174EA6;\n",
              "    }\n",
              "\n",
              "    [theme=dark] .colab-df-convert {\n",
              "      background-color: #3B4455;\n",
              "      fill: #D2E3FC;\n",
              "    }\n",
              "\n",
              "    [theme=dark] .colab-df-convert:hover {\n",
              "      background-color: #434B5C;\n",
              "      box-shadow: 0px 1px 3px 1px rgba(0, 0, 0, 0.15);\n",
              "      filter: drop-shadow(0px 1px 2px rgba(0, 0, 0, 0.3));\n",
              "      fill: #FFFFFF;\n",
              "    }\n",
              "  </style>\n",
              "\n",
              "      <script>\n",
              "        const buttonEl =\n",
              "          document.querySelector('#df-f41b4860-ec13-4b1d-b4ad-14a4b3388ca0 button.colab-df-convert');\n",
              "        buttonEl.style.display =\n",
              "          google.colab.kernel.accessAllowed ? 'block' : 'none';\n",
              "\n",
              "        async function convertToInteractive(key) {\n",
              "          const element = document.querySelector('#df-f41b4860-ec13-4b1d-b4ad-14a4b3388ca0');\n",
              "          const dataTable =\n",
              "            await google.colab.kernel.invokeFunction('convertToInteractive',\n",
              "                                                     [key], {});\n",
              "          if (!dataTable) return;\n",
              "\n",
              "          const docLinkHtml = 'Like what you see? Visit the ' +\n",
              "            '<a target=\"_blank\" href=https://colab.research.google.com/notebooks/data_table.ipynb>data table notebook</a>'\n",
              "            + ' to learn more about interactive tables.';\n",
              "          element.innerHTML = '';\n",
              "          dataTable['output_type'] = 'display_data';\n",
              "          await google.colab.output.renderOutput(dataTable, element);\n",
              "          const docLink = document.createElement('div');\n",
              "          docLink.innerHTML = docLinkHtml;\n",
              "          element.appendChild(docLink);\n",
              "        }\n",
              "      </script>\n",
              "    </div>\n",
              "  </div>\n",
              "  "
            ]
          },
          "metadata": {},
          "execution_count": 11
        }
      ]
    },
    {
      "cell_type": "code",
      "source": [
        "# Convert the dataframe column to float, and replace non-numeric values with NaN\n",
        "new_df = new_df.apply(lambda x: pd.to_numeric(x, errors='coerce'))"
      ],
      "metadata": {
        "id": "KmBE6Ma2a97C"
      },
      "execution_count": null,
      "outputs": []
    },
    {
      "cell_type": "code",
      "source": [
        "# print the dimensions of the pixels\n",
        "np.sqrt(new_df.shape[1])"
      ],
      "metadata": {
        "colab": {
          "base_uri": "https://localhost:8080/"
        },
        "id": "FeJwq1fPWPoq",
        "outputId": "0dfb6f2e-81bb-4be3-82a4-bea50fe46844"
      },
      "execution_count": null,
      "outputs": [
        {
          "output_type": "execute_result",
          "data": {
            "text/plain": [
              "48.0"
            ]
          },
          "metadata": {},
          "execution_count": 13
        }
      ]
    },
    {
      "cell_type": "code",
      "source": [
        "df.drop(columns=['pixels'], inplace=True)"
      ],
      "metadata": {
        "id": "QPibckbyDjBB"
      },
      "execution_count": null,
      "outputs": []
    },
    {
      "cell_type": "code",
      "source": [
        "new_df.to_csv(\"/content/Inputs.csv\", index=False)"
      ],
      "metadata": {
        "id": "zxoiBoRzC98B"
      },
      "execution_count": null,
      "outputs": []
    },
    {
      "cell_type": "code",
      "source": [
        "df.to_csv(\"/content/Outputs.csv\", index=False)"
      ],
      "metadata": {
        "id": "1u-ebulsEPQ_"
      },
      "execution_count": null,
      "outputs": []
    },
    {
      "cell_type": "markdown",
      "source": [
        "## Data Visualization\n",
        "After we cleaned our data and made it ready for use, in this part we will visualize our dataset in order to understand it and summarize it into beautiful and meaningful visualizations. We will also use the `imshow()` function from Matplotlib library to visualize or to show some pixels of our dataset (Face pictures)."
      ],
      "metadata": {
        "id": "ra5OzirdhvNz"
      }
    },
    {
      "cell_type": "code",
      "source": [
        "# The following code will select random rows (images) and visualize them\n",
        "\n",
        "random_rows = random.sample(range(len(new_df)), 15)\n",
        "images = new_df.iloc[random_rows, :]\n",
        "#images = new_df.iloc[:30, :] #This is for 1st 30 rows.\n",
        "\n",
        "# Plot random 15 images\n",
        "fig, axs = plt.subplots(3, 5, figsize=(30, 20))\n",
        "\n",
        "for i, ax in enumerate(axs.flat):\n",
        "    ax.imshow(images.iloc[i].values.reshape(48, 48), cmap=\"gray\")\n",
        "    ax.axis(\"off\")\n",
        "\n",
        "plt.show()"
      ],
      "metadata": {
        "colab": {
          "base_uri": "https://localhost:8080/",
          "height": 189
        },
        "id": "0YS_ZVU0XkEs",
        "outputId": "77a12f18-59b6-49bf-944f-fce78f4bf37a"
      },
      "execution_count": null,
      "outputs": [
        {
          "output_type": "display_data",
          "data": {
            "text/plain": [
              "<Figure size 2160x1440 with 15 Axes>"
            ],
            "image/png": "[encoded data removed]"
          },
          "metadata": {
            "needs_background": "light"
          }
        }
      ]
    },
    {
      "cell_type": "code",
      "source": [],
      "metadata": {
        "id": "opVMYUIyY-gm"
      },
      "execution_count": null,
      "outputs": []
    },
    {
      "cell_type": "markdown",
      "source": [
        "### Features engineering"
      ],
      "metadata": {
        "id": "AygayCqoEdLB"
      }
    },
    {
      "cell_type": "code",
      "source": [
        "X = pd.read_csv(\"/content/Inputs.csv\")"
      ],
      "metadata": {
        "id": "efextBtUEf8H"
      },
      "execution_count": null,
      "outputs": []
    },
    {
      "cell_type": "code",
      "source": [
        "Y = pd.read_csv(\"/content/Outputs.csv\")"
      ],
      "metadata": {
        "id": "ploLW--xFLfo"
      },
      "execution_count": null,
      "outputs": []
    },
    {
      "cell_type": "markdown",
      "source": [
        "Reshape the data from (23705, 2304) to (23705, 48, 48, 1) where the last dimension represents the number of channels in the image (1 for grayscale, 3 for RGB).\n",
        "\n",
        "Normalize the data between 0 and 1 by dividing it with 255."
      ],
      "metadata": {
        "id": "Dy3bQQcmJrNr"
      }
    },
    {
      "cell_type": "code",
      "source": [
        "X = np.array(X)\n",
        "X = X.reshape(-1, 48, 48, 1)"
      ],
      "metadata": {
        "id": "DMLerExUJTly"
      },
      "execution_count": null,
      "outputs": []
    },
    {
      "cell_type": "code",
      "source": [
        "X = X / 255.0"
      ],
      "metadata": {
        "id": "4FuVVSqmJh60"
      },
      "execution_count": null,
      "outputs": []
    },
    {
      "cell_type": "code",
      "source": [
        "X.shape, Y.shape"
      ],
      "metadata": {
        "colab": {
          "base_uri": "https://localhost:8080/"
        },
        "id": "SSHlvpSOR16k",
        "outputId": "1a0afbb7-af08-4be2-a3bb-37b1dbca2d23"
      },
      "execution_count": null,
      "outputs": [
        {
          "output_type": "execute_result",
          "data": {
            "text/plain": [
              "((23705, 48, 48, 1), (23705, 2))"
            ]
          },
          "metadata": {},
          "execution_count": 7
        }
      ]
    },
    {
      "cell_type": "code",
      "source": [],
      "metadata": {
        "id": "1x2fmZviLIu-"
      },
      "execution_count": null,
      "outputs": []
    },
    {
      "cell_type": "code",
      "source": [
        "def plot_images(X):\n",
        "    fig, axes = plt.subplots(3, 3)\n",
        "    fig.subplots_adjust(hspace=0.3, wspace=0.3)\n",
        "\n",
        "    for i, ax in enumerate(axes.flat):\n",
        "        ax.imshow(X[i].reshape(48, 48), cmap='gray')\n",
        "        ax.set_xticks([])\n",
        "        ax.set_yticks([])\n",
        "\n",
        "    plt.show()\n",
        "\n",
        "plot_images(X[:9])"
      ],
      "metadata": {
        "id": "OOAXyftELe7S",
        "colab": {
          "base_uri": "https://localhost:8080/",
          "height": 216
        },
        "outputId": "5accabf0-cbb8-4dd8-8b27-3665dee83df2"
      },
      "execution_count": null,
      "outputs": [
        {
          "output_type": "display_data",
          "data": {
            "text/plain": [
              "<Figure size 432x288 with 9 Axes>"
            ],
            "image/png": "[encoded data removed]"
          },
          "metadata": {}
        }
      ]
    },
    {
      "cell_type": "code",
      "source": [],
      "metadata": {
        "id": "JEt7OxSxMeXn"
      },
      "execution_count": null,
      "outputs": []
    },
    {
      "cell_type": "code",
      "source": [
        "y_age= np.array(Y['age'])\n",
        "y_gender= np.array(Y['gender'])"
      ],
      "metadata": {
        "id": "JjpA2tOhMe8v"
      },
      "execution_count": null,
      "outputs": []
    },
    {
      "cell_type": "code",
      "source": [
        "X_gender_train, X_gender_test, y_gender_train, y_gender_test = train_test_split(X, y_gender, train_size=0.8, random_state=42)\n",
        "X_age_train, X_age_test, y_age_train, y_age_test = train_test_split(X, y_age, train_size=0.8, random_state=42)"
      ],
      "metadata": {
        "id": "YXMIdSZ1MpXx"
      },
      "execution_count": 22,
      "outputs": []
    },
    {
      "cell_type": "markdown",
      "source": [
        "### Data Modeling and Evaluation"
      ],
      "metadata": {
        "id": "cljSfgRSQIBl"
      }
    },
    {
      "cell_type": "code",
      "source": [
        "inputs = tf.keras.Input(shape=(48, 48, 1))\n",
        "x = inputs\n",
        "\n",
        "x = tf.keras.layers.Conv2D(16, 3, padding='same', activation='relu')(x)\n",
        "x = tf.keras.layers.MaxPooling2D()(x)\n",
        "x = tf.keras.layers.Conv2D(32, 3, padding='same', activation='relu')(x)\n",
        "x = tf.keras.layers.MaxPooling2D()(x)\n",
        "x = tf.keras.layers.Conv2D(64, 3, padding='same', activation='relu')(x)\n",
        "x = tf.keras.layers.MaxPooling2D()(x)\n",
        "x = tf.keras.layers.Flatten()(x)\n",
        "x = tf.keras.layers.Dense(128, activation='relu')(x)\n",
        "\n",
        "# Age prediction branch\n",
        "age = tf.keras.layers.Dense(1, name='age')(x)\n",
        "\n",
        "# Gender prediction branch\n",
        "gender = tf.keras.layers.Dense(1, activation='sigmoid', name='gender')(x)\n",
        "\n",
        "model = tf.keras.Model(inputs=inputs, outputs=[age, gender])\n",
        "model.compile(optimizer='adam', loss=['mse', 'binary_crossentropy'], metrics=['mae', 'accuracy'])\n",
        "\n",
        "# Training the model\n",
        "history = model.fit(X_gender_train, [y_age_train, y_gender_train],validation_split=0.2, epochs=50, batch_size=64, validation_data=(X_gender_test, [y_age_test, y_gender_test]), callbacks=[tf.keras.callbacks.ReduceLROnPlateau()],)"
      ],
      "metadata": {
        "colab": {
          "base_uri": "https://localhost:8080/"
        },
        "id": "sqe0DvjKVwaG",
        "outputId": "33ecd595-4749-4aef-d7bf-ffbc3657a00f"
      },
      "execution_count": 24,
      "outputs": [
        {
          "output_type": "stream",
          "name": "stdout",
          "text": [
            "Epoch 1/50\n",
            "297/297 [==============================] - 60s 198ms/step - loss: 444.1965 - age_loss: 443.4987 - gender_loss: 0.6979 - age_mae: 16.1732 - age_accuracy: 0.0478 - gender_mae: 0.4986 - gender_accuracy: 0.5116 - val_loss: 347.8319 - val_age_loss: 347.1404 - val_gender_loss: 0.6916 - val_age_mae: 14.2602 - val_age_accuracy: 0.0443 - val_gender_mae: 0.4987 - val_gender_accuracy: 0.5041 - lr: 0.0010\n",
            "Epoch 2/50\n",
            "297/297 [==============================] - 55s 184ms/step - loss: 291.5042 - age_loss: 290.8927 - gender_loss: 0.6114 - age_mae: 13.1546 - age_accuracy: 0.0472 - gender_mae: 0.4291 - gender_accuracy: 0.6607 - val_loss: 211.3486 - val_age_loss: 210.8118 - val_gender_loss: 0.5368 - val_age_mae: 11.2134 - val_age_accuracy: 0.0413 - val_gender_mae: 0.3567 - val_gender_accuracy: 0.7275 - lr: 0.0010\n",
            "Epoch 3/50\n",
            "297/297 [==============================] - 54s 183ms/step - loss: 208.5437 - age_loss: 207.9965 - gender_loss: 0.5473 - age_mae: 10.9876 - age_accuracy: 0.0418 - gender_mae: 0.3648 - gender_accuracy: 0.7247 - val_loss: 181.0919 - val_age_loss: 180.5789 - val_gender_loss: 0.5130 - val_age_mae: 10.1605 - val_age_accuracy: 0.0407 - val_gender_mae: 0.3476 - val_gender_accuracy: 0.7482 - lr: 0.0010\n",
            "Epoch 4/50\n",
            "297/297 [==============================] - 54s 183ms/step - loss: 189.8528 - age_loss: 189.3317 - gender_loss: 0.5211 - age_mae: 10.3441 - age_accuracy: 0.0406 - gender_mae: 0.3626 - gender_accuracy: 0.7469 - val_loss: 200.2048 - val_age_loss: 199.6336 - val_gender_loss: 0.5713 - val_age_mae: 11.3012 - val_age_accuracy: 0.0437 - val_gender_mae: 0.3657 - val_gender_accuracy: 0.7032 - lr: 0.0010\n",
            "Epoch 5/50\n",
            "297/297 [==============================] - 55s 184ms/step - loss: 169.0371 - age_loss: 168.5249 - gender_loss: 0.5121 - age_mae: 9.6785 - age_accuracy: 0.0381 - gender_mae: 0.3560 - gender_accuracy: 0.7497 - val_loss: 182.0013 - val_age_loss: 181.4866 - val_gender_loss: 0.5147 - val_age_mae: 9.6639 - val_age_accuracy: 0.0285 - val_gender_mae: 0.3584 - val_gender_accuracy: 0.7376 - lr: 0.0010\n",
            "Epoch 6/50\n",
            "297/297 [==============================] - 54s 184ms/step - loss: 158.6478 - age_loss: 158.1423 - gender_loss: 0.5055 - age_mae: 9.3331 - age_accuracy: 0.0360 - gender_mae: 0.3468 - gender_accuracy: 0.7523 - val_loss: 143.4471 - val_age_loss: 142.9483 - val_gender_loss: 0.4988 - val_age_mae: 8.8392 - val_age_accuracy: 0.0335 - val_gender_mae: 0.3393 - val_gender_accuracy: 0.7598 - lr: 0.0010\n",
            "Epoch 7/50\n",
            "297/297 [==============================] - 57s 192ms/step - loss: 143.8700 - age_loss: 143.3789 - gender_loss: 0.4911 - age_mae: 8.8793 - age_accuracy: 0.0356 - gender_mae: 0.3357 - gender_accuracy: 0.7658 - val_loss: 151.4007 - val_age_loss: 150.9257 - val_gender_loss: 0.4750 - val_age_mae: 9.3965 - val_age_accuracy: 0.0337 - val_gender_mae: 0.3189 - val_gender_accuracy: 0.7741 - lr: 0.0010\n",
            "Epoch 8/50\n",
            "297/297 [==============================] - 55s 186ms/step - loss: 138.7765 - age_loss: 138.2981 - gender_loss: 0.4784 - age_mae: 8.7098 - age_accuracy: 0.0345 - gender_mae: 0.3248 - gender_accuracy: 0.7742 - val_loss: 130.9322 - val_age_loss: 130.4600 - val_gender_loss: 0.4722 - val_age_mae: 8.3855 - val_age_accuracy: 0.0337 - val_gender_mae: 0.3189 - val_gender_accuracy: 0.7686 - lr: 0.0010\n",
            "Epoch 9/50\n",
            "297/297 [==============================] - 55s 184ms/step - loss: 127.5193 - age_loss: 127.0489 - gender_loss: 0.4705 - age_mae: 8.3548 - age_accuracy: 0.0331 - gender_mae: 0.3197 - gender_accuracy: 0.7793 - val_loss: 138.6602 - val_age_loss: 138.2036 - val_gender_loss: 0.4566 - val_age_mae: 8.9720 - val_age_accuracy: 0.0340 - val_gender_mae: 0.3051 - val_gender_accuracy: 0.7889 - lr: 0.0010\n",
            "Epoch 10/50\n",
            "297/297 [==============================] - 55s 184ms/step - loss: 122.0867 - age_loss: 121.6276 - gender_loss: 0.4591 - age_mae: 8.1513 - age_accuracy: 0.0319 - gender_mae: 0.3106 - gender_accuracy: 0.7885 - val_loss: 125.0990 - val_age_loss: 124.6420 - val_gender_loss: 0.4571 - val_age_mae: 8.0534 - val_age_accuracy: 0.0283 - val_gender_mae: 0.3166 - val_gender_accuracy: 0.7965 - lr: 0.0010\n",
            "Epoch 11/50\n",
            "297/297 [==============================] - 55s 185ms/step - loss: 116.2406 - age_loss: 115.7844 - gender_loss: 0.4562 - age_mae: 7.9491 - age_accuracy: 0.0322 - gender_mae: 0.3060 - gender_accuracy: 0.7890 - val_loss: 133.7472 - val_age_loss: 133.3061 - val_gender_loss: 0.4411 - val_age_mae: 8.8235 - val_age_accuracy: 0.0327 - val_gender_mae: 0.2983 - val_gender_accuracy: 0.7914 - lr: 0.0010\n",
            "Epoch 12/50\n",
            "297/297 [==============================] - 55s 184ms/step - loss: 108.5333 - age_loss: 108.0866 - gender_loss: 0.4468 - age_mae: 7.6715 - age_accuracy: 0.0310 - gender_mae: 0.3007 - gender_accuracy: 0.7979 - val_loss: 129.3950 - val_age_loss: 128.9517 - val_gender_loss: 0.4434 - val_age_mae: 8.1186 - val_age_accuracy: 0.0215 - val_gender_mae: 0.3060 - val_gender_accuracy: 0.7990 - lr: 0.0010\n",
            "Epoch 13/50\n",
            "297/297 [==============================] - 58s 195ms/step - loss: 106.2079 - age_loss: 105.7697 - gender_loss: 0.4383 - age_mae: 7.5805 - age_accuracy: 0.0307 - gender_mae: 0.2948 - gender_accuracy: 0.7993 - val_loss: 121.4661 - val_age_loss: 121.0229 - val_gender_loss: 0.4432 - val_age_mae: 7.8399 - val_age_accuracy: 0.0331 - val_gender_mae: 0.2944 - val_gender_accuracy: 0.8070 - lr: 0.0010\n",
            "Epoch 14/50\n",
            "297/297 [==============================] - 54s 183ms/step - loss: 101.4629 - age_loss: 101.0300 - gender_loss: 0.4330 - age_mae: 7.4201 - age_accuracy: 0.0308 - gender_mae: 0.2891 - gender_accuracy: 0.8037 - val_loss: 107.3665 - val_age_loss: 106.9389 - val_gender_loss: 0.4276 - val_age_mae: 7.6018 - val_age_accuracy: 0.0314 - val_gender_mae: 0.2887 - val_gender_accuracy: 0.7986 - lr: 0.0010\n",
            "Epoch 15/50\n",
            "297/297 [==============================] - 55s 185ms/step - loss: 97.0882 - age_loss: 96.6633 - gender_loss: 0.4249 - age_mae: 7.2573 - age_accuracy: 0.0297 - gender_mae: 0.2832 - gender_accuracy: 0.8045 - val_loss: 111.4453 - val_age_loss: 111.0115 - val_gender_loss: 0.4339 - val_age_mae: 7.7501 - val_age_accuracy: 0.0230 - val_gender_mae: 0.2760 - val_gender_accuracy: 0.8028 - lr: 0.0010\n",
            "Epoch 16/50\n",
            "297/297 [==============================] - 55s 184ms/step - loss: 92.8806 - age_loss: 92.4620 - gender_loss: 0.4187 - age_mae: 7.1202 - age_accuracy: 0.0306 - gender_mae: 0.2780 - gender_accuracy: 0.8109 - val_loss: 103.7054 - val_age_loss: 103.2942 - val_gender_loss: 0.4112 - val_age_mae: 7.3373 - val_age_accuracy: 0.0266 - val_gender_mae: 0.2718 - val_gender_accuracy: 0.8121 - lr: 0.0010\n",
            "Epoch 17/50\n",
            "297/297 [==============================] - 55s 185ms/step - loss: 89.5318 - age_loss: 89.1228 - gender_loss: 0.4090 - age_mae: 7.0093 - age_accuracy: 0.0304 - gender_mae: 0.2715 - gender_accuracy: 0.8109 - val_loss: 132.3088 - val_age_loss: 131.8961 - val_gender_loss: 0.4127 - val_age_mae: 8.1169 - val_age_accuracy: 0.0245 - val_gender_mae: 0.2835 - val_gender_accuracy: 0.8100 - lr: 0.0010\n",
            "Epoch 18/50\n",
            "297/297 [==============================] - 55s 185ms/step - loss: 87.7989 - age_loss: 87.3967 - gender_loss: 0.4023 - age_mae: 6.9080 - age_accuracy: 0.0298 - gender_mae: 0.2674 - gender_accuracy: 0.8165 - val_loss: 108.6224 - val_age_loss: 108.2268 - val_gender_loss: 0.3955 - val_age_mae: 7.7708 - val_age_accuracy: 0.0266 - val_gender_mae: 0.2585 - val_gender_accuracy: 0.8188 - lr: 0.0010\n",
            "Epoch 19/50\n",
            "297/297 [==============================] - 58s 196ms/step - loss: 82.0863 - age_loss: 81.6906 - gender_loss: 0.3957 - age_mae: 6.7067 - age_accuracy: 0.0302 - gender_mae: 0.2629 - gender_accuracy: 0.8185 - val_loss: 102.2411 - val_age_loss: 101.8473 - val_gender_loss: 0.3937 - val_age_mae: 7.2268 - val_age_accuracy: 0.0253 - val_gender_mae: 0.2670 - val_gender_accuracy: 0.8192 - lr: 0.0010\n",
            "Epoch 20/50\n",
            "297/297 [==============================] - 55s 185ms/step - loss: 80.4859 - age_loss: 80.0974 - gender_loss: 0.3885 - age_mae: 6.6307 - age_accuracy: 0.0300 - gender_mae: 0.2569 - gender_accuracy: 0.8211 - val_loss: 123.0812 - val_age_loss: 122.6921 - val_gender_loss: 0.3891 - val_age_mae: 7.9247 - val_age_accuracy: 0.0181 - val_gender_mae: 0.2642 - val_gender_accuracy: 0.8256 - lr: 0.0010\n",
            "Epoch 21/50\n",
            "297/297 [==============================] - 55s 184ms/step - loss: 78.0069 - age_loss: 77.6236 - gender_loss: 0.3832 - age_mae: 6.5651 - age_accuracy: 0.0283 - gender_mae: 0.2537 - gender_accuracy: 0.8234 - val_loss: 103.8104 - val_age_loss: 103.4310 - val_gender_loss: 0.3794 - val_age_mae: 7.5820 - val_age_accuracy: 0.0318 - val_gender_mae: 0.2505 - val_gender_accuracy: 0.8289 - lr: 0.0010\n",
            "Epoch 22/50\n",
            "297/297 [==============================] - 55s 184ms/step - loss: 74.5589 - age_loss: 74.1845 - gender_loss: 0.3744 - age_mae: 6.3927 - age_accuracy: 0.0294 - gender_mae: 0.2491 - gender_accuracy: 0.8295 - val_loss: 111.9129 - val_age_loss: 111.5350 - val_gender_loss: 0.3780 - val_age_mae: 8.0352 - val_age_accuracy: 0.0380 - val_gender_mae: 0.2388 - val_gender_accuracy: 0.8294 - lr: 0.0010\n",
            "Epoch 23/50\n",
            "297/297 [==============================] - 55s 184ms/step - loss: 72.3551 - age_loss: 71.9841 - gender_loss: 0.3710 - age_mae: 6.3041 - age_accuracy: 0.0310 - gender_mae: 0.2442 - gender_accuracy: 0.8304 - val_loss: 95.4604 - val_age_loss: 95.0923 - val_gender_loss: 0.3681 - val_age_mae: 7.2950 - val_age_accuracy: 0.0331 - val_gender_mae: 0.2364 - val_gender_accuracy: 0.8357 - lr: 0.0010\n",
            "Epoch 24/50\n",
            "297/297 [==============================] - 57s 192ms/step - loss: 70.8311 - age_loss: 70.4654 - gender_loss: 0.3656 - age_mae: 6.2582 - age_accuracy: 0.0295 - gender_mae: 0.2417 - gender_accuracy: 0.8313 - val_loss: 105.1710 - val_age_loss: 104.7922 - val_gender_loss: 0.3787 - val_age_mae: 7.7637 - val_age_accuracy: 0.0318 - val_gender_mae: 0.2408 - val_gender_accuracy: 0.8226 - lr: 0.0010\n",
            "Epoch 25/50\n",
            "297/297 [==============================] - 56s 190ms/step - loss: 67.3149 - age_loss: 66.9553 - gender_loss: 0.3596 - age_mae: 6.1119 - age_accuracy: 0.0291 - gender_mae: 0.2363 - gender_accuracy: 0.8361 - val_loss: 91.4609 - val_age_loss: 91.1014 - val_gender_loss: 0.3594 - val_age_mae: 6.9733 - val_age_accuracy: 0.0283 - val_gender_mae: 0.2310 - val_gender_accuracy: 0.8353 - lr: 0.0010\n",
            "Epoch 26/50\n",
            "297/297 [==============================] - 56s 188ms/step - loss: 63.5366 - age_loss: 63.1848 - gender_loss: 0.3517 - age_mae: 5.9289 - age_accuracy: 0.0304 - gender_mae: 0.2319 - gender_accuracy: 0.8390 - val_loss: 97.7242 - val_age_loss: 97.3678 - val_gender_loss: 0.3565 - val_age_mae: 7.3479 - val_age_accuracy: 0.0190 - val_gender_mae: 0.2275 - val_gender_accuracy: 0.8367 - lr: 0.0010\n",
            "Epoch 27/50\n",
            "297/297 [==============================] - 55s 185ms/step - loss: 62.2125 - age_loss: 61.8643 - gender_loss: 0.3482 - age_mae: 5.8886 - age_accuracy: 0.0308 - gender_mae: 0.2289 - gender_accuracy: 0.8407 - val_loss: 97.0548 - val_age_loss: 96.7006 - val_gender_loss: 0.3542 - val_age_mae: 7.1264 - val_age_accuracy: 0.0146 - val_gender_mae: 0.2313 - val_gender_accuracy: 0.8374 - lr: 0.0010\n",
            "Epoch 28/50\n",
            "297/297 [==============================] - 56s 188ms/step - loss: 58.1691 - age_loss: 57.8264 - gender_loss: 0.3427 - age_mae: 5.6906 - age_accuracy: 0.0298 - gender_mae: 0.2263 - gender_accuracy: 0.8467 - val_loss: 90.5244 - val_age_loss: 90.1842 - val_gender_loss: 0.3402 - val_age_mae: 6.9173 - val_age_accuracy: 0.0323 - val_gender_mae: 0.2195 - val_gender_accuracy: 0.8469 - lr: 0.0010\n",
            "Epoch 29/50\n",
            "297/297 [==============================] - 56s 190ms/step - loss: 56.8880 - age_loss: 56.5499 - gender_loss: 0.3380 - age_mae: 5.6383 - age_accuracy: 0.0307 - gender_mae: 0.2231 - gender_accuracy: 0.8478 - val_loss: 91.2646 - val_age_loss: 90.9259 - val_gender_loss: 0.3387 - val_age_mae: 6.9821 - val_age_accuracy: 0.0291 - val_gender_mae: 0.2201 - val_gender_accuracy: 0.8490 - lr: 0.0010\n",
            "Epoch 30/50\n",
            "297/297 [==============================] - 55s 186ms/step - loss: 55.1547 - age_loss: 54.8215 - gender_loss: 0.3332 - age_mae: 5.5728 - age_accuracy: 0.0307 - gender_mae: 0.2193 - gender_accuracy: 0.8480 - val_loss: 88.2047 - val_age_loss: 87.8768 - val_gender_loss: 0.3279 - val_age_mae: 6.8121 - val_age_accuracy: 0.0291 - val_gender_mae: 0.2168 - val_gender_accuracy: 0.8521 - lr: 0.0010\n",
            "Epoch 31/50\n",
            "297/297 [==============================] - 56s 190ms/step - loss: 52.1261 - age_loss: 51.7987 - gender_loss: 0.3275 - age_mae: 5.4088 - age_accuracy: 0.0303 - gender_mae: 0.2163 - gender_accuracy: 0.8506 - val_loss: 97.2038 - val_age_loss: 96.8757 - val_gender_loss: 0.3281 - val_age_mae: 6.9944 - val_age_accuracy: 0.0312 - val_gender_mae: 0.2171 - val_gender_accuracy: 0.8561 - lr: 0.0010\n",
            "Epoch 32/50\n",
            "297/297 [==============================] - 55s 184ms/step - loss: 49.6659 - age_loss: 49.3472 - gender_loss: 0.3188 - age_mae: 5.2933 - age_accuracy: 0.0306 - gender_mae: 0.2118 - gender_accuracy: 0.8579 - val_loss: 91.6476 - val_age_loss: 91.3218 - val_gender_loss: 0.3258 - val_age_mae: 6.9520 - val_age_accuracy: 0.0268 - val_gender_mae: 0.2154 - val_gender_accuracy: 0.8538 - lr: 0.0010\n",
            "Epoch 33/50\n",
            "297/297 [==============================] - 55s 186ms/step - loss: 48.5686 - age_loss: 48.2490 - gender_loss: 0.3195 - age_mae: 5.2520 - age_accuracy: 0.0299 - gender_mae: 0.2090 - gender_accuracy: 0.8555 - val_loss: 91.6858 - val_age_loss: 91.3631 - val_gender_loss: 0.3227 - val_age_mae: 6.8703 - val_age_accuracy: 0.0304 - val_gender_mae: 0.2081 - val_gender_accuracy: 0.8561 - lr: 0.0010\n",
            "Epoch 34/50\n",
            "297/297 [==============================] - 56s 190ms/step - loss: 46.7404 - age_loss: 46.4285 - gender_loss: 0.3119 - age_mae: 5.1543 - age_accuracy: 0.0308 - gender_mae: 0.2062 - gender_accuracy: 0.8583 - val_loss: 94.5559 - val_age_loss: 94.2345 - val_gender_loss: 0.3214 - val_age_mae: 6.9353 - val_age_accuracy: 0.0205 - val_gender_mae: 0.2107 - val_gender_accuracy: 0.8519 - lr: 0.0010\n",
            "Epoch 35/50\n",
            "297/297 [==============================] - 55s 186ms/step - loss: 44.6556 - age_loss: 44.3440 - gender_loss: 0.3115 - age_mae: 5.0603 - age_accuracy: 0.0300 - gender_mae: 0.2043 - gender_accuracy: 0.8590 - val_loss: 92.2436 - val_age_loss: 91.9349 - val_gender_loss: 0.3087 - val_age_mae: 6.9187 - val_age_accuracy: 0.0238 - val_gender_mae: 0.2009 - val_gender_accuracy: 0.8640 - lr: 0.0010\n",
            "Epoch 36/50\n",
            "297/297 [==============================] - 55s 185ms/step - loss: 42.6830 - age_loss: 42.3805 - gender_loss: 0.3025 - age_mae: 4.9305 - age_accuracy: 0.0307 - gender_mae: 0.1995 - gender_accuracy: 0.8640 - val_loss: 99.7152 - val_age_loss: 99.4039 - val_gender_loss: 0.3113 - val_age_mae: 7.2486 - val_age_accuracy: 0.0308 - val_gender_mae: 0.1998 - val_gender_accuracy: 0.8616 - lr: 0.0010\n",
            "Epoch 37/50\n",
            "297/297 [==============================] - 55s 185ms/step - loss: 40.8375 - age_loss: 40.5388 - gender_loss: 0.2987 - age_mae: 4.8346 - age_accuracy: 0.0297 - gender_mae: 0.1964 - gender_accuracy: 0.8683 - val_loss: 100.1378 - val_age_loss: 99.8284 - val_gender_loss: 0.3095 - val_age_mae: 7.3819 - val_age_accuracy: 0.0306 - val_gender_mae: 0.1957 - val_gender_accuracy: 0.8644 - lr: 0.0010\n",
            "Epoch 38/50\n",
            "297/297 [==============================] - 56s 189ms/step - loss: 39.6414 - age_loss: 39.3439 - gender_loss: 0.2976 - age_mae: 4.7617 - age_accuracy: 0.0308 - gender_mae: 0.1952 - gender_accuracy: 0.8664 - val_loss: 91.2979 - val_age_loss: 90.9932 - val_gender_loss: 0.3047 - val_age_mae: 6.9645 - val_age_accuracy: 0.0251 - val_gender_mae: 0.1936 - val_gender_accuracy: 0.8656 - lr: 0.0010\n",
            "Epoch 39/50\n",
            "297/297 [==============================] - 55s 186ms/step - loss: 38.6783 - age_loss: 38.3832 - gender_loss: 0.2951 - age_mae: 4.7209 - age_accuracy: 0.0300 - gender_mae: 0.1922 - gender_accuracy: 0.8679 - val_loss: 99.6721 - val_age_loss: 99.3551 - val_gender_loss: 0.3169 - val_age_mae: 7.3319 - val_age_accuracy: 0.0247 - val_gender_mae: 0.1974 - val_gender_accuracy: 0.8599 - lr: 0.0010\n",
            "Epoch 40/50\n",
            "297/297 [==============================] - 55s 185ms/step - loss: 36.5723 - age_loss: 36.2805 - gender_loss: 0.2918 - age_mae: 4.6010 - age_accuracy: 0.0304 - gender_mae: 0.1902 - gender_accuracy: 0.8680 - val_loss: 93.4810 - val_age_loss: 93.1828 - val_gender_loss: 0.2983 - val_age_mae: 6.9182 - val_age_accuracy: 0.0181 - val_gender_mae: 0.1885 - val_gender_accuracy: 0.8661 - lr: 0.0010\n",
            "Epoch 41/50\n",
            "297/297 [==============================] - 56s 187ms/step - loss: 28.8538 - age_loss: 28.5741 - gender_loss: 0.2797 - age_mae: 4.0713 - age_accuracy: 0.0283 - gender_mae: 0.1834 - gender_accuracy: 0.8747 - val_loss: 89.2880 - val_age_loss: 88.9921 - val_gender_loss: 0.2959 - val_age_mae: 6.7873 - val_age_accuracy: 0.0268 - val_gender_mae: 0.1877 - val_gender_accuracy: 0.8680 - lr: 1.0000e-04\n",
            "Epoch 42/50\n",
            "297/297 [==============================] - 56s 187ms/step - loss: 27.5873 - age_loss: 27.3083 - gender_loss: 0.2790 - age_mae: 3.9822 - age_accuracy: 0.0302 - gender_mae: 0.1836 - gender_accuracy: 0.8754 - val_loss: 89.6919 - val_age_loss: 89.3959 - val_gender_loss: 0.2961 - val_age_mae: 6.8294 - val_age_accuracy: 0.0259 - val_gender_mae: 0.1876 - val_gender_accuracy: 0.8659 - lr: 1.0000e-04\n",
            "Epoch 43/50\n",
            "297/297 [==============================] - 55s 185ms/step - loss: 27.1994 - age_loss: 26.9205 - gender_loss: 0.2789 - age_mae: 3.9555 - age_accuracy: 0.0312 - gender_mae: 0.1839 - gender_accuracy: 0.8752 - val_loss: 89.0346 - val_age_loss: 88.7374 - val_gender_loss: 0.2972 - val_age_mae: 6.7838 - val_age_accuracy: 0.0262 - val_gender_mae: 0.1865 - val_gender_accuracy: 0.8692 - lr: 1.0000e-04\n",
            "Epoch 44/50\n",
            "297/297 [==============================] - 56s 190ms/step - loss: 26.8896 - age_loss: 26.6115 - gender_loss: 0.2780 - age_mae: 3.9384 - age_accuracy: 0.0303 - gender_mae: 0.1828 - gender_accuracy: 0.8758 - val_loss: 89.3473 - val_age_loss: 89.0521 - val_gender_loss: 0.2952 - val_age_mae: 6.7909 - val_age_accuracy: 0.0276 - val_gender_mae: 0.1874 - val_gender_accuracy: 0.8652 - lr: 1.0000e-04\n",
            "Epoch 45/50\n",
            "297/297 [==============================] - 55s 185ms/step - loss: 26.6609 - age_loss: 26.3831 - gender_loss: 0.2778 - age_mae: 3.9196 - age_accuracy: 0.0307 - gender_mae: 0.1829 - gender_accuracy: 0.8767 - val_loss: 89.6401 - val_age_loss: 89.3458 - val_gender_loss: 0.2943 - val_age_mae: 6.7953 - val_age_accuracy: 0.0272 - val_gender_mae: 0.1865 - val_gender_accuracy: 0.8692 - lr: 1.0000e-04\n",
            "Epoch 46/50\n",
            "297/297 [==============================] - 58s 196ms/step - loss: 26.4293 - age_loss: 26.1523 - gender_loss: 0.2770 - age_mae: 3.9045 - age_accuracy: 0.0305 - gender_mae: 0.1824 - gender_accuracy: 0.8774 - val_loss: 89.9821 - val_age_loss: 89.6868 - val_gender_loss: 0.2953 - val_age_mae: 6.8464 - val_age_accuracy: 0.0270 - val_gender_mae: 0.1860 - val_gender_accuracy: 0.8690 - lr: 1.0000e-04\n",
            "Epoch 47/50\n",
            "297/297 [==============================] - 55s 186ms/step - loss: 26.0946 - age_loss: 25.8180 - gender_loss: 0.2766 - age_mae: 3.8769 - age_accuracy: 0.0302 - gender_mae: 0.1818 - gender_accuracy: 0.8773 - val_loss: 89.8495 - val_age_loss: 89.5551 - val_gender_loss: 0.2944 - val_age_mae: 6.8028 - val_age_accuracy: 0.0276 - val_gender_mae: 0.1853 - val_gender_accuracy: 0.8686 - lr: 1.0000e-04\n",
            "Epoch 48/50\n",
            "297/297 [==============================] - 55s 185ms/step - loss: 25.9909 - age_loss: 25.7149 - gender_loss: 0.2760 - age_mae: 3.8738 - age_accuracy: 0.0304 - gender_mae: 0.1813 - gender_accuracy: 0.8766 - val_loss: 90.4495 - val_age_loss: 90.1559 - val_gender_loss: 0.2936 - val_age_mae: 6.8178 - val_age_accuracy: 0.0274 - val_gender_mae: 0.1859 - val_gender_accuracy: 0.8688 - lr: 1.0000e-04\n",
            "Epoch 49/50\n",
            "297/297 [==============================] - 55s 185ms/step - loss: 25.7721 - age_loss: 25.4971 - gender_loss: 0.2750 - age_mae: 3.8577 - age_accuracy: 0.0307 - gender_mae: 0.1812 - gender_accuracy: 0.8771 - val_loss: 90.5985 - val_age_loss: 90.3032 - val_gender_loss: 0.2952 - val_age_mae: 6.8640 - val_age_accuracy: 0.0283 - val_gender_mae: 0.1846 - val_gender_accuracy: 0.8701 - lr: 1.0000e-04\n",
            "Epoch 50/50\n",
            "297/297 [==============================] - 56s 188ms/step - loss: 25.5430 - age_loss: 25.2677 - gender_loss: 0.2753 - age_mae: 3.8415 - age_accuracy: 0.0300 - gender_mae: 0.1808 - gender_accuracy: 0.8767 - val_loss: 91.1529 - val_age_loss: 90.8593 - val_gender_loss: 0.2936 - val_age_mae: 6.8992 - val_age_accuracy: 0.0297 - val_gender_mae: 0.1847 - val_gender_accuracy: 0.8688 - lr: 1.0000e-04\n"
          ]
        }
      ]
    },
    {
      "cell_type": "code",
      "source": [
        "# Evaluating the model\n",
        "metrics = model.evaluate(X_gender_test, [y_age_test, y_gender_test], batch_size=64)\n",
        "\n",
        "# Printing the evaluation metrics\n",
        "print(\"Loss: \", metrics[0])\n",
        "print(\"Age Loss: \", metrics[1])\n",
        "print(\"Gender Loss: \", metrics[2])\n",
        "print(\"Age MAE: \", metrics[3])\n",
        "print(\"Gender Accuracy: \", metrics[6])"
      ],
      "metadata": {
        "colab": {
          "base_uri": "https://localhost:8080/"
        },
        "id": "TYJAvwKqYrRc",
        "outputId": "63ff84f0-df50-42c5-f1d8-c1c54cc71f33"
      },
      "execution_count": 27,
      "outputs": [
        {
          "output_type": "stream",
          "name": "stdout",
          "text": [
            "75/75 [==============================] - 4s 50ms/step - loss: 91.1529 - age_loss: 90.8593 - gender_loss: 0.2936 - age_mae: 6.8992 - age_accuracy: 0.0297 - gender_mae: 0.1847 - gender_accuracy: 0.8688\n",
            "Loss:  91.15288543701172\n",
            "Age Loss:  90.85930633544922\n",
            "Gender Loss:  0.2935935854911804\n",
            "Age MAE:  6.899173259735107\n",
            "Gender Accuracy:  0.8688040375709534\n"
          ]
        }
      ]
    },
    {
      "cell_type": "code",
      "source": [],
      "metadata": {
        "id": "HGuIE2D4wFlD"
      },
      "execution_count": null,
      "outputs": []
    },
    {
      "cell_type": "code",
      "source": [
        "# Check for overfitting for age\n",
        "\n",
        "plt.figure()\n",
        "\n",
        "plt.plot(history.history['age_loss'], 'blue')\n",
        "plt.plot(history.history['val_age_loss'], 'red')\n",
        "\n",
        "plt.legend(['Age Training loss', 'Age Validation Loss'])\n",
        "plt.xlabel('Epochs')\n",
        "plt.ylabel('Loss')\n",
        "plt.title('Age Loss Curves')\n",
        "plt.grid()"
      ],
      "metadata": {
        "colab": {
          "base_uri": "https://localhost:8080/",
          "height": 295
        },
        "id": "Sj7P1mli5q2C",
        "outputId": "77ad42bc-ad19-46d2-9687-bb875789f1a8"
      },
      "execution_count": 43,
      "outputs": [
        {
          "output_type": "display_data",
          "data": {
            "text/plain": [
              "<Figure size 432x288 with 1 Axes>"
            ],
            "image/png": "[encoded data removed]"
          },
          "metadata": {
            "needs_background": "light"
          }
        }
      ]
    },
    {
      "cell_type": "code",
      "source": [
        "# Check for overfitting for Gender\n",
        "\n",
        "plt.figure()\n",
        "\n",
        "plt.plot(history.history['gender_loss'], 'blue')\n",
        "plt.plot(history.history['val_gender_loss'], 'red')\n",
        "\n",
        "plt.legend(['Gender Training loss', 'Gender Validation Loss'])\n",
        "plt.xlabel('Epochs')\n",
        "plt.ylabel('Loss')\n",
        "plt.title('Gender Loss Curves')\n",
        "plt.grid()"
      ],
      "metadata": {
        "colab": {
          "base_uri": "https://localhost:8080/",
          "height": 295
        },
        "id": "b0ketMGq7zBn",
        "outputId": "f79512db-41bd-4cb3-cfad-8d63e863de28"
      },
      "execution_count": 44,
      "outputs": [
        {
          "output_type": "display_data",
          "data": {
            "text/plain": [
              "<Figure size 432x288 with 1 Axes>"
            ],
            "image/png": "[encoded data removed]"
          },
          "metadata": {
            "needs_background": "light"
          }
        }
      ]
    }
  ]
}